{
 "cells": [
  {
   "cell_type": "code",
   "execution_count": 1,
   "metadata": {
    "ExecuteTime": {
     "end_time": "2019-04-14T22:10:51.969109Z",
     "start_time": "2019-04-14T22:10:51.505427Z"
    },
    "janus": {
     "all_versions_showing": false,
     "cell_hidden": false,
     "current_version": 0,
     "id": "5c4c7585d2922",
     "named_versions": [],
     "output_hidden": false,
     "show_versions": false,
     "source_hidden": false,
     "versions": []
    }
   },
   "outputs": [],
   "source": [
    "import numpy as np"
   ]
  },
  {
   "cell_type": "markdown",
   "metadata": {
    "janus": {
     "all_versions_showing": false,
     "cell_hidden": false,
     "current_version": 0,
     "id": "e31bafd8f4c5",
     "named_versions": [],
     "output_hidden": false,
     "show_versions": false,
     "source_hidden": false,
     "versions": []
    }
   },
   "source": [
    "Training (Constructing Weights)"
   ]
  },
  {
   "cell_type": "code",
   "execution_count": 2,
   "metadata": {
    "janus": {
     "all_versions_showing": false,
     "cell_hidden": false,
     "current_version": 0,
     "id": "aae4a82b665bc",
     "named_versions": [],
     "output_hidden": false,
     "show_versions": false,
     "source_hidden": false,
     "versions": []
    }
   },
   "outputs": [
    {
     "data": {
      "text/plain": [
       "array([[ 0. , -0.4,  0. ,  0. ,  0. ],\n",
       "       [-0.4,  0. ,  0. ,  0. ,  0. ],\n",
       "       [ 0. ,  0. ,  0. , -0.4,  0.4],\n",
       "       [ 0. ,  0. , -0.4,  0. , -0.4],\n",
       "       [ 0. ,  0. ,  0.4, -0.4,  0. ]])"
      ]
     },
     "execution_count": 2,
     "metadata": {},
     "output_type": "execute_result"
    }
   ],
   "source": [
    "states = np.array([[+1, -1, +1, -1, +1], [-1, +1, +1, -1, +1]])\n",
    "\n",
    "# Number of states M, Number of nodes N\n",
    "M = len(states) # 2\n",
    "N = len(states[0]) # 5\n",
    "\n",
    "# Construct the weight matrix\n",
    "W = np.zeros((5, 5))\n",
    "total = 0\n",
    "for i in range(N):\n",
    "    for j in range(N):\n",
    "        if (i != j):\n",
    "            total = (states[0][i] * states[0][j]) + (states[1][i] * states[1][j])\n",
    "            W[i][j] = (1/N) * total\n",
    "W"
   ]
  },
  {
   "cell_type": "markdown",
   "metadata": {
    "janus": {
     "all_versions_showing": false,
     "cell_hidden": false,
     "current_version": 0,
     "id": "3e5630ef52279",
     "named_versions": [],
     "output_hidden": false,
     "show_versions": false,
     "source_hidden": false,
     "versions": []
    }
   },
   "source": [
    "Probing Pattern"
   ]
  },
  {
   "cell_type": "code",
   "execution_count": 3,
   "metadata": {
    "janus": {
     "all_versions_showing": false,
     "cell_hidden": false,
     "current_version": 0,
     "id": "9c628e11a0b9",
     "named_versions": [],
     "output_hidden": false,
     "show_versions": false,
     "source_hidden": false,
     "versions": []
    }
   },
   "outputs": [],
   "source": [
    "initial_input_state = np.array([+1, +1, +1, +1, +1])"
   ]
  },
  {
   "cell_type": "markdown",
   "metadata": {
    "janus": {
     "all_versions_showing": false,
     "cell_hidden": false,
     "current_version": 0,
     "id": "741b81ac5edcd",
     "named_versions": [],
     "output_hidden": false,
     "show_versions": false,
     "source_hidden": false,
     "versions": []
    }
   },
   "source": [
    "Dynamic Evolution"
   ]
  },
  {
   "cell_type": "code",
   "execution_count": 7,
   "metadata": {
    "ExecuteTime": {
     "end_time": "2019-04-14T22:10:52.340072Z",
     "start_time": "2019-04-14T22:10:52.145180Z"
    },
    "janus": {
     "all_versions_showing": false,
     "cell_hidden": false,
     "current_version": 0,
     "id": "c262de54374b9",
     "named_versions": [],
     "output_hidden": false,
     "show_versions": false,
     "source_hidden": false,
     "versions": []
    },
    "scrolled": false
   },
   "outputs": [],
   "source": [
    "# Hard-limiting non-linearity function\n",
    "f_h = np.vectorize(lambda x: 1 if x >= 0 else -1)\n",
    "\n",
    "# Dynamic evolution\n",
    "def evolve(order, log=False): \n",
    "    t = 0\n",
    "    last_U = None\n",
    "    U = initial_input_state.copy()\n",
    "    if log:\n",
    "        print('U({}) = {}'.format(t, U))\n",
    "        \n",
    "    # Until convergence\n",
    "    while not np.array_equal(U, last_U):\n",
    "        t += 1\n",
    "        last_U = U.copy()\n",
    "        # Update the nodes in order\n",
    "        for i in order:\n",
    "            # Be sure to zero-index\n",
    "            \n",
    "            # YOUR CODE HERE\n",
    "            total = 0\n",
    "            for j in range(N):\n",
    "                total += W[j][i-1]*U[j]\n",
    "            \n",
    "            U[i-1] = f_h(total)\n",
    "            \n",
    "            if log:\n",
    "                print('U_{}({}) = {}'.format(i, t, U[i-1]))\n",
    "\n",
    "        # Log U for this iteration\n",
    "        if log:\n",
    "            print('U({}) = {}'.format(t, U))\n",
    "            None\n",
    "            \n",
    "    return U"
   ]
  },
  {
   "cell_type": "code",
   "execution_count": 8,
   "metadata": {
    "janus": {
     "all_versions_showing": false,
     "cell_hidden": false,
     "current_version": 0,
     "id": "74b02985925ae",
     "named_versions": [],
     "output_hidden": false,
     "show_versions": false,
     "source_hidden": false,
     "versions": []
    }
   },
   "outputs": [
    {
     "name": "stdout",
     "output_type": "stream",
     "text": [
      "U(0) = [1 1 1 1 1]\n",
      "U_3(1) = 1\n",
      "U_1(1) = -1\n",
      "U_5(1) = 1\n",
      "U_2(1) = 1\n",
      "U_4(1) = -1\n",
      "U(1) = [-1  1  1 -1  1]\n",
      "U_3(2) = 1\n",
      "U_1(2) = -1\n",
      "U_5(2) = 1\n",
      "U_2(2) = 1\n",
      "U_4(2) = -1\n",
      "U(2) = [-1  1  1 -1  1]\n",
      "[-1  1  1 -1  1]\n"
     ]
    }
   ],
   "source": [
    "U = evolve([3, 1, 5, 2, 4], log=True)\n",
    "print(U)"
   ]
  },
  {
   "cell_type": "code",
   "execution_count": 9,
   "metadata": {
    "janus": {
     "all_versions_showing": false,
     "cell_hidden": false,
     "current_version": 0,
     "id": "9b44885b2c49f",
     "named_versions": [],
     "output_hidden": false,
     "show_versions": false,
     "source_hidden": false,
     "versions": []
    }
   },
   "outputs": [
    {
     "name": "stdout",
     "output_type": "stream",
     "text": [
      "U(0) = [1 1 1 1 1]\n",
      "U_2(1) = -1\n",
      "U_4(1) = -1\n",
      "U_3(1) = 1\n",
      "U_5(1) = 1\n",
      "U_1(1) = 1\n",
      "U(1) = [ 1 -1  1 -1  1]\n",
      "U_2(2) = -1\n",
      "U_4(2) = -1\n",
      "U_3(2) = 1\n",
      "U_5(2) = 1\n",
      "U_1(2) = 1\n",
      "U(2) = [ 1 -1  1 -1  1]\n",
      "[ 1 -1  1 -1  1]\n"
     ]
    }
   ],
   "source": [
    "U = evolve([2, 4, 3, 5, 1], log=True)\n",
    "print(U)"
   ]
  },
  {
   "cell_type": "code",
   "execution_count": null,
   "metadata": {
    "janus": {
     "all_versions_showing": false,
     "cell_hidden": false,
     "current_version": 0,
     "id": "ec4b0e077fb",
     "named_versions": [],
     "output_hidden": false,
     "show_versions": false,
     "source_hidden": false,
     "versions": []
    }
   },
   "outputs": [],
   "source": []
  }
 ],
 "metadata": {
  "janus": {
   "filepaths": [
    [
     "bad42ca5",
     1559064888034,
     1559099006981
    ]
   ],
   "janus_markers": [],
   "track_history": true
  },
  "kernelspec": {
   "display_name": "Python 3",
   "language": "python",
   "name": "python3"
  },
  "language_info": {
   "codemirror_mode": {
    "name": "ipython",
    "version": 3
   },
   "file_extension": ".py",
   "mimetype": "text/x-python",
   "name": "python",
   "nbconvert_exporter": "python",
   "pygments_lexer": "ipython3",
   "version": "3.6.8"
  },
  "toc": {
   "base_numbering": 1,
   "nav_menu": {},
   "number_sections": true,
   "sideBar": true,
   "skip_h1_title": false,
   "title_cell": "Table of Contents",
   "title_sidebar": "Contents",
   "toc_cell": false,
   "toc_position": {},
   "toc_section_display": true,
   "toc_window_display": false
  }
 },
 "nbformat": 4,
 "nbformat_minor": 2
}
